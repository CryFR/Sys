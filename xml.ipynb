{
 "cells": [
  {
   "cell_type": "markdown",
   "metadata": {},
   "source": [
    "### XML"
   ]
  },
  {
   "cell_type": "markdown",
   "metadata": {},
   "source": [
    "**Введение в XML**\n",
    "\n",
    "XML — это язык разметки для описания иерархии структурированных данных. XML документ содержит один или более элементов разделённых открывающими и закрывающими тегами.\n",
    "\n",
    "XML документ:"
   ]
  },
  {
   "cell_type": "raw",
   "metadata": {},
   "source": [
    "<foo> \n",
    "</foo>"
   ]
  },
  {
   "cell_type": "markdown",
   "metadata": {},
   "source": [
    "Элементы могут быть неограниченно вложены друг в друга. Так как элемент bar вложен в элемент foo, то его называют подэлементом или дочерним элементом элемента foo."
   ]
  },
  {
   "cell_type": "raw",
   "metadata": {},
   "source": [
    "<foo>\n",
    "  <bar></bar>\n",
    "</foo>"
   ]
  },
  {
   "cell_type": "markdown",
   "metadata": {},
   "source": [
    "Пример представленный ниже не является XML документом, так как он имеет два корневых элемента:"
   ]
  },
  {
   "cell_type": "raw",
   "metadata": {},
   "source": [
    "<foo></foo>\n",
    "<bar></bar>"
   ]
  },
  {
   "cell_type": "markdown",
   "metadata": {},
   "source": [
    "Элементы могут иметь атрибуты состоящие из пары имя-значение."
   ]
  },
  {
   "cell_type": "raw",
   "metadata": {},
   "source": [
    "<foo lang='en'>                         \n",
    "  <bar id='papayawhip' lang=\"fr\"></bar>  \n",
    "</foo>"
   ]
  },
  {
   "cell_type": "markdown",
   "metadata": {},
   "source": [
    "Элементы могут иметь текст (текстовое содержание)."
   ]
  },
  {
   "cell_type": "raw",
   "metadata": {},
   "source": [
    "<foo lang='en'>\n",
    "  <bar lang='fr'>PapayaWhip</bar>\n",
    "</foo>"
   ]
  },
  {
   "cell_type": "markdown",
   "metadata": {},
   "source": [
    "Элементы которые не содержат текста и дочерних элементов называются пустыми."
   ]
  },
  {
   "cell_type": "raw",
   "metadata": {},
   "source": [
    "<foo></foo>"
   ]
  },
  {
   "cell_type": "markdown",
   "metadata": {},
   "source": [
    "Существует сокращённая запись пустого элемента. Поместив знак дроби / в конце открывающего тега, вы можете пропустить закрывающий тег. XML документ предыдущего примера с пустым элементов может быть записан следующим образом:"
   ]
  },
  {
   "cell_type": "raw",
   "metadata": {},
   "source": [
    "<foo/>"
   ]
  },
  {
   "cell_type": "markdown",
   "metadata": {},
   "source": [
    "Для объявления пространства имён по умолчанию используется директива xmlns. Объявление пространства имён очень похоже на атрибут, но имеет специальное значение."
   ]
  },
  {
   "cell_type": "raw",
   "metadata": {},
   "source": [
    "<feed xmlns='http://www.w3.org/2005/Atom'>  \n",
    "  <title>dive into mark</title>             \n",
    "</feed>"
   ]
  },
  {
   "cell_type": "raw",
   "metadata": {},
   "source": [
    "<atom:feed xmlns:atom='http://www.w3.org/2005/Atom'> \n",
    "  <atom:title>dive into mark</atom:title>            \n",
    "</atom:feed>"
   ]
  },
  {
   "cell_type": "markdown",
   "metadata": {},
   "source": [
    "XML документы могут содержать информацию о кодировке символов в первой строке до корневого элемента. "
   ]
  },
  {
   "cell_type": "raw",
   "metadata": {},
   "source": [
    "<?xml version='1.0' encoding='utf-8'?>"
   ]
  },
  {
   "cell_type": "markdown",
   "metadata": {},
   "source": [
    "**Синтаксический разбор XML**"
   ]
  },
  {
   "cell_type": "code",
   "execution_count": 26,
   "metadata": {},
   "outputs": [
    {
     "data": {
      "text/plain": [
       "<Element '{http://www.w3.org/2005/Atom}feed' at 0x000002A060170220>"
      ]
     },
     "execution_count": 26,
     "metadata": {},
     "output_type": "execute_result"
    }
   ],
   "source": [
    ">>> import xml.etree.ElementTree as etree   \n",
    ">>> tree = etree.parse('feed.xml')  \n",
    ">>> root = tree.getroot()                    \n",
    ">>> root    "
   ]
  },
  {
   "cell_type": "markdown",
   "metadata": {},
   "source": [
    "**Элементы XML есть списки Python**"
   ]
  },
  {
   "cell_type": "markdown",
   "metadata": {},
   "source": [
    "В API ElementTree элементы представляются встроенным типом Python - списком. Каждый из элементов списка представляет собой дочерние XML элементы."
   ]
  },
  {
   "cell_type": "code",
   "execution_count": 27,
   "metadata": {},
   "outputs": [
    {
     "data": {
      "text/plain": [
       "'{http://www.w3.org/2005/Atom}feed'"
      ]
     },
     "execution_count": 27,
     "metadata": {},
     "output_type": "execute_result"
    }
   ],
   "source": [
    "root.tag         "
   ]
  },
  {
   "cell_type": "code",
   "execution_count": 28,
   "metadata": {},
   "outputs": [
    {
     "data": {
      "text/plain": [
       "9"
      ]
     },
     "execution_count": 28,
     "metadata": {},
     "output_type": "execute_result"
    }
   ],
   "source": [
    "len(root)"
   ]
  },
  {
   "cell_type": "code",
   "execution_count": 29,
   "metadata": {},
   "outputs": [
    {
     "name": "stdout",
     "output_type": "stream",
     "text": [
      "<Element '{http://www.w3.org/2005/Atom}feed' at 0x000002A060170220>\n",
      "<Element '{http://www.w3.org/2005/Atom}feed' at 0x000002A060170220>\n",
      "<Element '{http://www.w3.org/2005/Atom}feed' at 0x000002A060170220>\n",
      "<Element '{http://www.w3.org/2005/Atom}feed' at 0x000002A060170220>\n",
      "<Element '{http://www.w3.org/2005/Atom}feed' at 0x000002A060170220>\n",
      "<Element '{http://www.w3.org/2005/Atom}feed' at 0x000002A060170220>\n",
      "<Element '{http://www.w3.org/2005/Atom}feed' at 0x000002A060170220>\n",
      "<Element '{http://www.w3.org/2005/Atom}feed' at 0x000002A060170220>\n",
      "<Element '{http://www.w3.org/2005/Atom}feed' at 0x000002A060170220>\n"
     ]
    }
   ],
   "source": [
    "for child in root: \n",
    "    print(root)"
   ]
  },
  {
   "cell_type": "markdown",
   "metadata": {},
   "source": [
    "**Атрибуты XML есть словари Python**"
   ]
  },
  {
   "cell_type": "markdown",
   "metadata": {},
   "source": [
    "Документ XML это не только набор элементов; каждый элемент так же имеет набор атрибутов. Имея конкретный XML элемент, Вы можете легко получить его атрибуты как словарь Python."
   ]
  },
  {
   "cell_type": "code",
   "execution_count": 30,
   "metadata": {},
   "outputs": [
    {
     "data": {
      "text/plain": [
       "{'{http://www.w3.org/XML/1998/namespace}lang': 'en'}"
      ]
     },
     "execution_count": 30,
     "metadata": {},
     "output_type": "execute_result"
    }
   ],
   "source": [
    "root.attrib     "
   ]
  },
  {
   "cell_type": "code",
   "execution_count": 31,
   "metadata": {},
   "outputs": [
    {
     "data": {
      "text/plain": [
       "<Element '{http://www.w3.org/2005/Atom}link' at 0x000002A0601776D0>"
      ]
     },
     "execution_count": 31,
     "metadata": {},
     "output_type": "execute_result"
    }
   ],
   "source": [
    "root[4]       "
   ]
  },
  {
   "cell_type": "code",
   "execution_count": 32,
   "metadata": {},
   "outputs": [
    {
     "data": {
      "text/plain": [
       "{'rel': 'alternate', 'type': 'text/html', 'href': 'http://diveintomark.org/'}"
      ]
     },
     "execution_count": 32,
     "metadata": {},
     "output_type": "execute_result"
    }
   ],
   "source": [
    "root[4].attrib           "
   ]
  },
  {
   "cell_type": "code",
   "execution_count": 33,
   "metadata": {},
   "outputs": [
    {
     "data": {
      "text/plain": [
       "<Element '{http://www.w3.org/2005/Atom}updated' at 0x000002A0601779F0>"
      ]
     },
     "execution_count": 33,
     "metadata": {},
     "output_type": "execute_result"
    }
   ],
   "source": [
    "root[3] "
   ]
  },
  {
   "cell_type": "code",
   "execution_count": 34,
   "metadata": {},
   "outputs": [
    {
     "data": {
      "text/plain": [
       "{}"
      ]
     },
     "execution_count": 34,
     "metadata": {},
     "output_type": "execute_result"
    }
   ],
   "source": [
    "root[3].attrib "
   ]
  },
  {
   "cell_type": "markdown",
   "metadata": {},
   "source": [
    "**Поиск узлов в XML документе**"
   ]
  },
  {
   "cell_type": "code",
   "execution_count": 35,
   "metadata": {},
   "outputs": [
    {
     "data": {
      "text/plain": [
       "[<Element '{http://www.w3.org/2005/Atom}entry' at 0x000002A060177360>,\n",
       " <Element '{http://www.w3.org/2005/Atom}entry' at 0x000002A06013E540>,\n",
       " <Element '{http://www.w3.org/2005/Atom}entry' at 0x000002A06013E220>]"
      ]
     },
     "execution_count": 35,
     "metadata": {},
     "output_type": "execute_result"
    }
   ],
   "source": [
    "root.findall('{http://www.w3.org/2005/Atom}entry') "
   ]
  },
  {
   "cell_type": "code",
   "execution_count": 36,
   "metadata": {},
   "outputs": [
    {
     "data": {
      "text/plain": [
       "'{http://www.w3.org/2005/Atom}feed'"
      ]
     },
     "execution_count": 36,
     "metadata": {},
     "output_type": "execute_result"
    }
   ],
   "source": [
    "root.tag"
   ]
  },
  {
   "cell_type": "code",
   "execution_count": 37,
   "metadata": {},
   "outputs": [
    {
     "data": {
      "text/plain": [
       "[]"
      ]
     },
     "execution_count": 37,
     "metadata": {},
     "output_type": "execute_result"
    }
   ],
   "source": [
    "root.findall('{http://www.w3.org/2005/Atom}feed')"
   ]
  },
  {
   "cell_type": "code",
   "execution_count": 38,
   "metadata": {},
   "outputs": [
    {
     "data": {
      "text/plain": [
       "[]"
      ]
     },
     "execution_count": 38,
     "metadata": {},
     "output_type": "execute_result"
    }
   ],
   "source": [
    "root.findall('{http://www.w3.org/2005/Atom}author')"
   ]
  },
  {
   "cell_type": "code",
   "execution_count": 39,
   "metadata": {},
   "outputs": [
    {
     "data": {
      "text/plain": [
       "[<Element '{http://www.w3.org/2005/Atom}entry' at 0x000002A060177360>,\n",
       " <Element '{http://www.w3.org/2005/Atom}entry' at 0x000002A06013E540>,\n",
       " <Element '{http://www.w3.org/2005/Atom}entry' at 0x000002A06013E220>]"
      ]
     },
     "execution_count": 39,
     "metadata": {},
     "output_type": "execute_result"
    }
   ],
   "source": [
    "tree.findall('{http://www.w3.org/2005/Atom}entry') "
   ]
  },
  {
   "cell_type": "code",
   "execution_count": 40,
   "metadata": {},
   "outputs": [
    {
     "data": {
      "text/plain": [
       "[]"
      ]
     },
     "execution_count": 40,
     "metadata": {},
     "output_type": "execute_result"
    }
   ],
   "source": [
    "tree.findall('{http://www.w3.org/2005/Atom}author')"
   ]
  },
  {
   "cell_type": "code",
   "execution_count": 41,
   "metadata": {},
   "outputs": [
    {
     "data": {
      "text/plain": [
       "3"
      ]
     },
     "execution_count": 41,
     "metadata": {},
     "output_type": "execute_result"
    }
   ],
   "source": [
    "entries = tree.findall('{http://www.w3.org/2005/Atom}entry')  \n",
    "len(entries)"
   ]
  },
  {
   "cell_type": "code",
   "execution_count": 42,
   "metadata": {},
   "outputs": [
    {
     "data": {
      "text/plain": [
       "'Dive into history, 2009 edition'"
      ]
     },
     "execution_count": 42,
     "metadata": {},
     "output_type": "execute_result"
    }
   ],
   "source": [
    "title_element = entries[0].find('{http://www.w3.org/2005/Atom}title')\n",
    "title_element.text"
   ]
  },
  {
   "cell_type": "code",
   "execution_count": 43,
   "metadata": {},
   "outputs": [
    {
     "data": {
      "text/plain": [
       "NoneType"
      ]
     },
     "execution_count": 43,
     "metadata": {},
     "output_type": "execute_result"
    }
   ],
   "source": [
    "foo_element = entries[0].find('{http://www.w3.org/2005/Atom}foo')\n",
    "foo_element\n",
    "type(foo_element)"
   ]
  },
  {
   "cell_type": "code",
   "execution_count": 46,
   "metadata": {},
   "outputs": [
    {
     "data": {
      "text/plain": [
       "[<Element '{http://www.w3.org/2005/Atom}link' at 0x000002A0601776D0>,\n",
       " <Element '{http://www.w3.org/2005/Atom}link' at 0x000002A060177090>,\n",
       " <Element '{http://www.w3.org/2005/Atom}link' at 0x000002A060177680>,\n",
       " <Element '{http://www.w3.org/2005/Atom}link' at 0x000002A06013EDB0>,\n",
       " <Element '{http://www.w3.org/2005/Atom}link' at 0x000002A060185040>]"
      ]
     },
     "execution_count": 46,
     "metadata": {},
     "output_type": "execute_result"
    }
   ],
   "source": [
    "all_links = tree.findall('.//{http://www.w3.org/2005/Atom}link') \n",
    "all_links"
   ]
  },
  {
   "cell_type": "code",
   "execution_count": 47,
   "metadata": {},
   "outputs": [
    {
     "data": {
      "text/plain": [
       "{'rel': 'alternate', 'type': 'text/html', 'href': 'http://diveintomark.org/'}"
      ]
     },
     "execution_count": 47,
     "metadata": {},
     "output_type": "execute_result"
    }
   ],
   "source": [
    "all_links[0].attrib"
   ]
  },
  {
   "cell_type": "markdown",
   "metadata": {},
   "source": [
    "**Создание XML**"
   ]
  },
  {
   "cell_type": "code",
   "execution_count": 22,
   "metadata": {},
   "outputs": [
    {
     "name": "stdout",
     "output_type": "stream",
     "text": [
      "b'<ns0:feed xmlns:ns0=\"http://www.w3.org/2005/Atom\" xml:lang=\"en\" />'\n"
     ]
    }
   ],
   "source": [
    "new_feed = etree.Element('{http://www.w3.org/2005/Atom}feed',     \n",
    "    attrib={'{http://www.w3.org/XML/1998/namespace}lang': 'en'})  \n",
    "print(etree.tostring(new_feed))                                   "
   ]
  }
 ],
 "metadata": {
  "kernelspec": {
   "display_name": "Python 3",
   "language": "python",
   "name": "python3"
  },
  "language_info": {
   "codemirror_mode": {
    "name": "ipython",
    "version": 3
   },
   "file_extension": ".py",
   "mimetype": "text/x-python",
   "name": "python",
   "nbconvert_exporter": "python",
   "pygments_lexer": "ipython3",
   "version": "3.8.3"
  }
 },
 "nbformat": 4,
 "nbformat_minor": 4
}
