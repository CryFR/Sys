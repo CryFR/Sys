{
  "nbformat": 4,
  "nbformat_minor": 0,
  "metadata": {
    "kernelspec": {
      "display_name": "Python 3",
      "language": "python",
      "name": "python3"
    },
    "language_info": {
      "codemirror_mode": {
        "name": "ipython",
        "version": 3
      },
      "file_extension": ".py",
      "mimetype": "text/x-python",
      "name": "python",
      "nbconvert_exporter": "python",
      "pygments_lexer": "ipython3",
      "version": "3.8.3"
    },
    "colab": {
      "name": "sys.ipynb",
      "provenance": []
    }
  },
  "cells": [
    {
      "cell_type": "markdown",
      "metadata": {
        "id": "Gsg0l5vUTV_l"
      },
      "source": [
        "<a href=\"https://colab.research.google.com/github/CryFR/passzi/blob/main/sys.ipynb\"><img align=\"left\" src=\"https://colab.research.google.com/assets/colab-badge.svg\" alt=\"Open in Colab\" title=\"Open and Execute in Google Colaboratory\" target=\"_blank\"></a>"
      ]
    },
    {
      "cell_type": "markdown",
      "metadata": {
        "id": "AhHyOBIXRbJO"
      },
      "source": [
        "# Модули **os.path, pathlib, sys**\n",
        "---"
      ]
    },
    {
      "cell_type": "markdown",
      "metadata": {
        "id": "5mAYcEXMQjmb"
      },
      "source": [
        "##**os.path *vs* pathlib**"
      ]
    },
    {
      "cell_type": "markdown",
      "metadata": {
        "id": "Yha90-Q2KcAs"
      },
      "source": [
        "Модули os.path и pathlib помогают при работе с путями в вашем коде.  \n",
        "Оба модуля предоставляют средства для множества манипуляций с путями, однако делают это немного по разному.  "
      ]
    },
    {
      "cell_type": "markdown",
      "metadata": {
        "id": "HdEHEdEmQw5p"
      },
      "source": [
        "### Различие первое: **Чистота кода**"
      ]
    },
    {
      "cell_type": "markdown",
      "metadata": {
        "id": "AD2alf59Q_1I"
      },
      "source": [
        "Уже на этапе импортов видны разительные отличия в подходах в использовании модулей:\n",
        "в случае с `os.path` мы импортируем либо весь модуль, либо отдельные функции из него, тогда как при использовании `pathlib` мы импортируем один лишь класс `Path` внутри которого реализованы все нужные нам методы:\n",
        "```python\n",
        "import os.path\n",
        "from os.path import abspath, split, join\n",
        "my_path = r'/path/to/file'\n",
        "```\n",
        "VS\n",
        "```python \n",
        "from pathlib imoprt Path\n",
        "my_path = Path(r'/path/to/file')\n",
        "```\n",
        "Во втором случае мы лишены проблем с разрешением конфликтов имён, возникающих вследствие того, что некоторые функции в `os.path` имеют очень общие имена (`split`, `join` и т.п.)"
      ]
    },
    {
      "cell_type": "markdown",
      "metadata": {
        "id": "PhIT7EN2TUfW"
      },
      "source": [
        "### Различие второе: **Функциональщина *vs* ООП**"
      ]
    },
    {
      "cell_type": "markdown",
      "metadata": {
        "id": "a52kyTIRDBWu"
      },
      "source": [
        "Самое важное отличие между модулями - это, пожалуй, отличие между парадигмами программирования, которые они предоставляют для использования разработчиком.  \n",
        "В `os.path` пути являются строками, которые мы передаём как аргументы функциям модуля. К примеру, для того, чтобы создать новую директорию `dir` и перенести в неё файл `file` из нашей рабочей директории с использованием `os.path`, следует выполнить следующий код:\n",
        "```python\n",
        "import os\n",
        "\n",
        "os.makedirs('dir, exist_ok=True)\n",
        "os.rename('file', os.path.join('dir', 'file'))\n",
        "```\n",
        "Следует заметить, что для этого нам пришлось использовать функции модуля `os`, лежащие за пределами `os.path`.  \n",
        "Для того, чтобы совершить те же действия с помощью `pathlib` выполним следующее:\n",
        "```python\n",
        "from pathlib import Path\n",
        "\n",
        "Path('./dir').mkdir(parents=True, exist_ok=True)\n",
        "Path('file').rename('dir/file')\n",
        "```\n",
        "Выше мы увидели, что в случае с `pathlib` мы будем создавать абстракции - объекты класса `Path` и работать прямо с ними в объектно-ориентированном стиле, в то время, как `os.path` просто предоставляет функции для преобразования строк.  \n",
        "Таким образом мы можем превратить страшный и запутанный код, который надо читать из нутри наружу:\n",
        "```pyhton\n",
        "os.listdir(os.path.join(os.getcwd(), 'dir'))\n",
        "```\n",
        "На куда менее страшный и запутанный код, а главное, читающийся слева-направо:\n",
        "```python\n",
        "Path.cwd().joinpath('dir').iterdir()\n",
        "```"
      ]
    },
    {
      "cell_type": "markdown",
      "metadata": {
        "id": "K_F6VjsqWbj7"
      },
      "source": [
        "### Различие третье: **работа с файлами и файловой системой**"
      ]
    },
    {
      "cell_type": "markdown",
      "metadata": {
        "id": "E2qralqdWrRt"
      },
      "source": [
        "Также модуль `pathlib` предоставляет удобные методы для работы с файлами, например, следующий код позволит произвести запись в файл, а после прочитать его, используя встроенные методы класса `Path`:\n"
      ]
    },
    {
      "cell_type": "code",
      "metadata": {
        "id": "4ZYQXkzzBcbz"
      },
      "source": [
        "from pathlib import Path\n",
        " \n",
        "my_path = Path('file.py')\n",
        " \n",
        "my_path.write_text('print(текст)\\n')\n",
        "print(my_path.read_text())"
      ],
      "execution_count": null,
      "outputs": []
    },
    {
      "cell_type": "code",
      "metadata": {
        "id": "BT8IXOXrYFoq"
      },
      "source": [
        "А этот код позволит переименовать файл:"
      ],
      "execution_count": null,
      "outputs": []
    },
    {
      "cell_type": "code",
      "metadata": {
        "id": "eg_UFhggBnDf",
        "outputId": "87dee18c-ac0b-4d8d-a3e2-de7dc12d4e9c",
        "colab": {
          "base_uri": "https://localhost:8080/",
          "height": 36
        }
      },
      "source": [
        "from pathlib import Path\n",
        " \n",
        "my_file = Path('file.py')\n",
        "my_renamed_file = Path('renamed_file.py')\n",
        "\n",
        "my_file.rename(my_renamed_file)\n",
        "\n",
        "my_renamed_file.exists()"
      ],
      "execution_count": 4,
      "outputs": [
        {
          "output_type": "execute_result",
          "data": {
            "text/plain": [
              "True"
            ]
          },
          "metadata": {
            "tags": []
          },
          "execution_count": 4
        }
      ]
    },
    {
      "cell_type": "markdown",
      "metadata": {
        "id": "5YxzhKVLYOGj"
      },
      "source": [
        "А метод `glob` позволяет заменить целый одноимённый модуль, который традиционно использовался в дополнение к модулю `os` при необходимости поиска файлов в ФС по шаблону:"
      ]
    },
    {
      "cell_type": "code",
      "metadata": {
        "id": "tFy5HdKrX94w",
        "outputId": "26f94448-6a92-4fd9-a1cc-f43ded6f8ffe",
        "colab": {
          "base_uri": "https://localhost:8080/",
          "height": 36
        }
      },
      "source": [
        "from pathlib import Path\n",
        " \n",
        "# Поиск всех файлов с расширением .py в рабочей\n",
        "list(Path('.').glob('*.py'))"
      ],
      "execution_count": 7,
      "outputs": [
        {
          "output_type": "execute_result",
          "data": {
            "text/plain": [
              "[PosixPath('file.py')]"
            ]
          },
          "metadata": {
            "tags": []
          },
          "execution_count": 7
        }
      ]
    },
    {
      "cell_type": "code",
      "metadata": {
        "id": "ion5OQsvYWM8",
        "outputId": "c0f4b1c4-460e-4e3f-834d-5d18964067df",
        "colab": {
          "base_uri": "https://localhost:8080/",
          "height": 36
        }
      },
      "source": [
        "\n",
        "# Выражение ** позволяет произвести поиск не только в указанной директории, но и во всех её дочерних дерикториях\n",
        "list(Path('.').glob('**/*.py'))"
      ],
      "execution_count": 9,
      "outputs": [
        {
          "output_type": "execute_result",
          "data": {
            "text/plain": [
              "[PosixPath('file.py')]"
            ]
          },
          "metadata": {
            "tags": []
          },
          "execution_count": 9
        }
      ]
    },
    {
      "cell_type": "markdown",
      "metadata": {
        "id": "zGKHtKTvbhNC"
      },
      "source": [
        "### **Вывод**\n",
        "Используйте `pahtlib`"
      ]
    },
    {
      "cell_type": "markdown",
      "metadata": {
        "id": "eU8BIbrHSaIs"
      },
      "source": [
        "### **Заменяем `os`**"
      ]
    },
    {
      "cell_type": "code",
      "metadata": {
        "id": "_kHQGFXGSGbe"
      },
      "source": [
        "from pathlib import Path\n",
        "import os"
      ],
      "execution_count": 8,
      "outputs": []
    },
    {
      "cell_type": "markdown",
      "metadata": {
        "id": "_IRfwCb7S6iM"
      },
      "source": [
        "Получаем абсолютный путь:"
      ]
    },
    {
      "cell_type": "code",
      "metadata": {
        "id": "nXqFFLqQTfSB",
        "outputId": "972f3d78-a17f-4188-89db-01fd4779d9b7",
        "colab": {
          "base_uri": "https://localhost:8080/",
          "height": 36
        }
      },
      "source": [
        "os.path.abspath('.')\n"
      ],
      "execution_count": null,
      "outputs": [
        {
          "output_type": "execute_result",
          "data": {
            "application/vnd.google.colaboratory.intrinsic+json": {
              "type": "string"
            },
            "text/plain": [
              "'/content'"
            ]
          },
          "metadata": {
            "tags": []
          },
          "execution_count": 5
        }
      ]
    },
    {
      "cell_type": "code",
      "metadata": {
        "id": "Yt0cb-KZSNYw",
        "outputId": "367ec8dd-b337-4ae7-dd26-51b60d85482a",
        "colab": {
          "base_uri": "https://localhost:8080/"
        }
      },
      "source": [
        "Path('.').resolve()"
      ],
      "execution_count": null,
      "outputs": [
        {
          "output_type": "execute_result",
          "data": {
            "text/plain": [
              "PosixPath('/content')"
            ]
          },
          "metadata": {
            "tags": []
          },
          "execution_count": 2
        }
      ]
    },
    {
      "cell_type": "markdown",
      "metadata": {
        "id": "uK4_o-ScANMO"
      },
      "source": [
        "Узнаём, абсолютный ли путь перед нами:"
      ]
    },
    {
      "cell_type": "code",
      "metadata": {
        "id": "sOYhtJKPAUhx",
        "outputId": "a5b29cec-bb67-4000-e801-df9d5408f139",
        "colab": {
          "base_uri": "https://localhost:8080/",
          "height": 36
        }
      },
      "source": [
        "os.path.isabs('.')"
      ],
      "execution_count": 6,
      "outputs": [
        {
          "output_type": "execute_result",
          "data": {
            "text/plain": [
              "False"
            ]
          },
          "metadata": {
            "tags": []
          },
          "execution_count": 6
        }
      ]
    },
    {
      "cell_type": "code",
      "metadata": {
        "id": "oqIQQsZyBHjk",
        "outputId": "5507a453-31dc-4ef0-dc8c-535bc4392cf3",
        "colab": {
          "base_uri": "https://localhost:8080/",
          "height": 36
        }
      },
      "source": [
        "Path('/content').is_absolute()"
      ],
      "execution_count": 9,
      "outputs": [
        {
          "output_type": "execute_result",
          "data": {
            "text/plain": [
              "True"
            ]
          },
          "metadata": {
            "tags": []
          },
          "execution_count": 9
        }
      ]
    },
    {
      "cell_type": "markdown",
      "metadata": {
        "id": "WlZQaZgjTqIe"
      },
      "source": [
        "Создаём директорию:"
      ]
    },
    {
      "cell_type": "code",
      "metadata": {
        "id": "THVQ9zFqTuOl"
      },
      "source": [
        "os.mkdir('./os_dir') # os.mkdirs для вложнных директорий"
      ],
      "execution_count": null,
      "outputs": []
    },
    {
      "cell_type": "code",
      "metadata": {
        "id": "WvoQaFGwT7Ab"
      },
      "source": [
        "Path('./path_dir').mkdir() # Path.mkdir(parents=True) для вложенных директорий"
      ],
      "execution_count": null,
      "outputs": []
    },
    {
      "cell_type": "markdown",
      "metadata": {
        "id": "J69tv_p6VFnU"
      },
      "source": [
        "Проверяем существование файла/директории:"
      ]
    },
    {
      "cell_type": "code",
      "metadata": {
        "id": "vMchZXEyVN2T",
        "outputId": "897bdbfd-d8f1-486e-f495-12d2dd85e6d4",
        "colab": {
          "base_uri": "https://localhost:8080/"
        }
      },
      "source": [
        "os.path.exists('./os_dir')"
      ],
      "execution_count": null,
      "outputs": [
        {
          "output_type": "execute_result",
          "data": {
            "text/plain": [
              "True"
            ]
          },
          "metadata": {
            "tags": []
          },
          "execution_count": 8
        }
      ]
    },
    {
      "cell_type": "code",
      "metadata": {
        "id": "73dwZ7eLVTH7",
        "outputId": "52fcbd18-fa89-49c9-d5e7-ae2790a82141",
        "colab": {
          "base_uri": "https://localhost:8080/"
        }
      },
      "source": [
        "Path('./path_dir').exists()"
      ],
      "execution_count": null,
      "outputs": [
        {
          "output_type": "execute_result",
          "data": {
            "text/plain": [
              "True"
            ]
          },
          "metadata": {
            "tags": []
          },
          "execution_count": 10
        }
      ]
    },
    {
      "cell_type": "markdown",
      "metadata": {
        "id": "9gMsTWLOUW3R"
      },
      "source": [
        "Изменяем имя файла/директории:"
      ]
    },
    {
      "cell_type": "code",
      "metadata": {
        "id": "5Z2NmYIuUwLo"
      },
      "source": [
        "os.rename('./os_dir', './renamed_os_dir')"
      ],
      "execution_count": null,
      "outputs": []
    },
    {
      "cell_type": "code",
      "metadata": {
        "id": "2_HI6imoU592"
      },
      "source": [
        "Path('./path_dir').rename('./renamed_path_dir')"
      ],
      "execution_count": null,
      "outputs": []
    },
    {
      "cell_type": "markdown",
      "metadata": {
        "id": "JTxoZLvBVyZn"
      },
      "source": [
        "Получаем содержимое директории:"
      ]
    },
    {
      "cell_type": "code",
      "metadata": {
        "id": "UYOhHxslWIfK",
        "outputId": "f112c535-78fc-4f6e-ced9-932bd2b45a99",
        "colab": {
          "base_uri": "https://localhost:8080/",
          "height": 36
        }
      },
      "source": [
        "os.listdir('.')"
      ],
      "execution_count": 25,
      "outputs": [
        {
          "output_type": "execute_result",
          "data": {
            "text/plain": [
              "['.config', '.ipynb_checkpoints', 'file.py', 'sample_data']"
            ]
          },
          "metadata": {
            "tags": []
          },
          "execution_count": 25
        }
      ]
    },
    {
      "cell_type": "code",
      "metadata": {
        "id": "vWrly2WJWUpM",
        "outputId": "85ccd132-1f55-44a4-a14c-1e21cff1c7b1",
        "colab": {
          "base_uri": "https://localhost:8080/",
          "height": 92
        }
      },
      "source": [
        "list(Path('.').iterdir())"
      ],
      "execution_count": 26,
      "outputs": [
        {
          "output_type": "execute_result",
          "data": {
            "text/plain": [
              "[PosixPath('.config'),\n",
              " PosixPath('.ipynb_checkpoints'),\n",
              " PosixPath('file.py'),\n",
              " PosixPath('sample_data')]"
            ]
          },
          "metadata": {
            "tags": []
          },
          "execution_count": 26
        }
      ]
    },
    {
      "cell_type": "markdown",
      "metadata": {
        "id": "a_v27YWoW8nc"
      },
      "source": [
        "Проверяем какой объект файловой системы перед нами:"
      ]
    },
    {
      "cell_type": "code",
      "metadata": {
        "id": "riyIpaIlXEUV",
        "outputId": "b895e610-9053-442e-fbef-4922e68f3f3f",
        "colab": {
          "base_uri": "https://localhost:8080/"
        }
      },
      "source": [
        "os.path.isfile('./renamed_os_dir')"
      ],
      "execution_count": null,
      "outputs": [
        {
          "output_type": "execute_result",
          "data": {
            "text/plain": [
              "False"
            ]
          },
          "metadata": {
            "tags": []
          },
          "execution_count": 23
        }
      ]
    },
    {
      "cell_type": "code",
      "metadata": {
        "id": "62n3PdmsXUr3",
        "outputId": "4c3bd43f-bf9b-4031-855f-874efa7d6060",
        "colab": {
          "base_uri": "https://localhost:8080/"
        }
      },
      "source": [
        "os.path.islink('./renamed_os_dir')"
      ],
      "execution_count": null,
      "outputs": [
        {
          "output_type": "execute_result",
          "data": {
            "text/plain": [
              "False"
            ]
          },
          "metadata": {
            "tags": []
          },
          "execution_count": 24
        }
      ]
    },
    {
      "cell_type": "code",
      "metadata": {
        "id": "s39aws5wXXOK",
        "outputId": "9c4ab607-50c8-4522-d010-d078f9a998a4",
        "colab": {
          "base_uri": "https://localhost:8080/"
        }
      },
      "source": [
        "os.path.isdir('./renamed_os_dir')"
      ],
      "execution_count": null,
      "outputs": [
        {
          "output_type": "execute_result",
          "data": {
            "text/plain": [
              "True"
            ]
          },
          "metadata": {
            "tags": []
          },
          "execution_count": 25
        }
      ]
    },
    {
      "cell_type": "code",
      "metadata": {
        "id": "SHCQ46XdXa0e",
        "outputId": "20dc98e0-647e-44bb-9333-4a1eaba81839",
        "colab": {
          "base_uri": "https://localhost:8080/"
        }
      },
      "source": [
        "my_path = Path('./renamed_path_dir')\n",
        "my_path.is_file()"
      ],
      "execution_count": null,
      "outputs": [
        {
          "output_type": "execute_result",
          "data": {
            "text/plain": [
              "False"
            ]
          },
          "metadata": {
            "tags": []
          },
          "execution_count": 26
        }
      ]
    },
    {
      "cell_type": "code",
      "metadata": {
        "id": "fPdhtU57XbD4",
        "outputId": "268e05da-e46f-4aaa-ff04-4e0d241fa446",
        "colab": {
          "base_uri": "https://localhost:8080/"
        }
      },
      "source": [
        "my_path.is_symlink()"
      ],
      "execution_count": null,
      "outputs": [
        {
          "output_type": "execute_result",
          "data": {
            "text/plain": [
              "False"
            ]
          },
          "metadata": {
            "tags": []
          },
          "execution_count": 27
        }
      ]
    },
    {
      "cell_type": "code",
      "metadata": {
        "id": "t1QXqqk2XbUE",
        "outputId": "7420bce0-0dbd-4b40-f095-b9c2570501dc",
        "colab": {
          "base_uri": "https://localhost:8080/"
        }
      },
      "source": [
        "my_path.is_dir()"
      ],
      "execution_count": null,
      "outputs": [
        {
          "output_type": "execute_result",
          "data": {
            "text/plain": [
              "True"
            ]
          },
          "metadata": {
            "tags": []
          },
          "execution_count": 28
        }
      ]
    },
    {
      "cell_type": "markdown",
      "metadata": {
        "id": "aTnpKrJVfU4l"
      },
      "source": [
        "**SYS**\n",
        "\n",
        "Модуль sys предоставляет программисту набор функций, которые дают информацию о том, как интерпретатор Python взаимодействует с операционной системой.\n",
        "Модуль sys даёт следующую информацию:\n",
        "\n",
        "    - Какая версия Питона запущена.\n",
        "    - Путь к интерпретатору Python, исполняющему текущий скрипт.\n",
        "    - Параметры командной строки, используемые при запуске на выполнение скрипта.\n",
        "    - Флаги, установленные интерпретатором.\n",
        "    - Представление значений с плавающей точкой.\n",
        "    - Многое другое.\n"
      ]
    },
    {
      "cell_type": "markdown",
      "metadata": {
        "id": "6ln4IKnLfU4s"
      },
      "source": [
        "**sys.argv**\n",
        "\n",
        "Значение sys.argv – это список аргументов командной строки, которые причастны к скрипту Python. "
      ]
    },
    {
      "cell_type": "code",
      "metadata": {
        "id": "_S1A01EafU4y",
        "outputId": "d3152973-6f8d-4c4f-9f76-ab55570c7531"
      },
      "source": [
        "import sys\n",
        "print(sys.argv)"
      ],
      "execution_count": null,
      "outputs": [
        {
          "output_type": "stream",
          "text": [
            "['D:\\\\anaconda\\\\lib\\\\site-packages\\\\ipykernel_launcher.py', '-f', 'C:\\\\Users\\\\cryin\\\\AppData\\\\Roaming\\\\jupyter\\\\runtime\\\\kernel-89c75d79-5419-4bf3-bbab-b207a8f163e0.json']\n"
          ],
          "name": "stdout"
        }
      ]
    },
    {
      "cell_type": "markdown",
      "metadata": {
        "id": "TZFmVXZqfU5I"
      },
      "source": [
        "![изображение.png](attachment:27cdfddb-0522-41ea-862f-e05bc4ee01e1.png)"
      ]
    },
    {
      "cell_type": "markdown",
      "metadata": {
        "id": "-N1SGo7CfU5L"
      },
      "source": [
        "**sys.executable**\n",
        "\n",
        "Значение sys.executable – это полный путь к интерпретатору Python. \n"
      ]
    },
    {
      "cell_type": "code",
      "metadata": {
        "id": "zAtAGyyvfU5M",
        "outputId": "7a4c549a-5e2b-4216-8b08-dcb9f2e4a55f"
      },
      "source": [
        "print(sys.executable)"
      ],
      "execution_count": null,
      "outputs": [
        {
          "output_type": "stream",
          "text": [
            "D:\\anaconda\\python.exe\n"
          ],
          "name": "stdout"
        }
      ]
    },
    {
      "cell_type": "markdown",
      "metadata": {
        "id": "Zx30t9Y6fU5X"
      },
      "source": [
        "**sys.exit**\n",
        "\n",
        "Данная функция позволяет разработчику выйти из Python."
      ]
    },
    {
      "cell_type": "markdown",
      "metadata": {
        "id": "xaE7Tx9ofU5Y"
      },
      "source": [
        "sys.exit(0)"
      ]
    },
    {
      "cell_type": "code",
      "metadata": {
        "id": "ZS_ytThGfU5a",
        "outputId": "af4d677a-4e6d-43cd-bd40-b79abb458b3a"
      },
      "source": [
        "import subprocess\n",
        " \n",
        "code = subprocess.call([\"python.exe\", \"exit.py\"])\n",
        "print(code)"
      ],
      "execution_count": null,
      "outputs": [
        {
          "output_type": "stream",
          "text": [
            "0\n"
          ],
          "name": "stdout"
        }
      ]
    },
    {
      "cell_type": "markdown",
      "metadata": {
        "id": "q-ugubYlfU5j"
      },
      "source": [
        "**sys.path**\n",
        "\n",
        "Значение функции path модуля sys – это список строк, которые указывают путь поиска для модулей. "
      ]
    },
    {
      "cell_type": "code",
      "metadata": {
        "id": "j3llU2KQfU5l",
        "outputId": "dd173360-45f1-4eaf-cd71-4a5c21d0db8c"
      },
      "source": [
        "print(sys.path)"
      ],
      "execution_count": null,
      "outputs": [
        {
          "output_type": "stream",
          "text": [
            "['C:\\\\Users\\\\cryin', 'D:\\\\anaconda\\\\python38.zip', 'D:\\\\anaconda\\\\DLLs', 'D:\\\\anaconda\\\\lib', 'D:\\\\anaconda', '', 'D:\\\\anaconda\\\\lib\\\\site-packages', 'D:\\\\anaconda\\\\lib\\\\site-packages\\\\win32', 'D:\\\\anaconda\\\\lib\\\\site-packages\\\\win32\\\\lib', 'D:\\\\anaconda\\\\lib\\\\site-packages\\\\Pythonwin', 'D:\\\\anaconda\\\\lib\\\\site-packages\\\\IPython\\\\extensions', 'C:\\\\Users\\\\cryin\\\\.ipython']\n"
          ],
          "name": "stdout"
        }
      ]
    },
    {
      "cell_type": "markdown",
      "metadata": {
        "id": "GpjUnSg6fU5t"
      },
      "source": [
        "Добавление пути:"
      ]
    },
    {
      "cell_type": "code",
      "metadata": {
        "id": "YhKFpLrNfU5v",
        "outputId": "7b38a628-a491-4d23-8633-a6447e0d6350"
      },
      "source": [
        "if \"/path/to/my/module\" not in sys.path:\n",
        "    sys.path.append(\"/path/to/my/module\")\n",
        "print(sys.path)"
      ],
      "execution_count": null,
      "outputs": [
        {
          "output_type": "stream",
          "text": [
            "['C:\\\\Users\\\\cryin', 'D:\\\\anaconda\\\\python38.zip', 'D:\\\\anaconda\\\\DLLs', 'D:\\\\anaconda\\\\lib', 'D:\\\\anaconda', '', 'D:\\\\anaconda\\\\lib\\\\site-packages', 'D:\\\\anaconda\\\\lib\\\\site-packages\\\\win32', 'D:\\\\anaconda\\\\lib\\\\site-packages\\\\win32\\\\lib', 'D:\\\\anaconda\\\\lib\\\\site-packages\\\\Pythonwin', 'D:\\\\anaconda\\\\lib\\\\site-packages\\\\IPython\\\\extensions', 'C:\\\\Users\\\\cryin\\\\.ipython', '/path/to/my/module']\n"
          ],
          "name": "stdout"
        }
      ]
    },
    {
      "cell_type": "code",
      "metadata": {
        "id": "pgvd_vdbfU53",
        "outputId": "67204900-2356-479a-c5ef-33215b518bf5"
      },
      "source": [
        "if \"/path/to/my/module\" in sys.path:    \n",
        "    sys.path.remove(\"/path/to/my/module\")\n",
        "print(sys.path)"
      ],
      "execution_count": null,
      "outputs": [
        {
          "output_type": "stream",
          "text": [
            "['C:\\\\Users\\\\cryin', 'D:\\\\anaconda\\\\python38.zip', 'D:\\\\anaconda\\\\DLLs', 'D:\\\\anaconda\\\\lib', 'D:\\\\anaconda', '', 'D:\\\\anaconda\\\\lib\\\\site-packages', 'D:\\\\anaconda\\\\lib\\\\site-packages\\\\win32', 'D:\\\\anaconda\\\\lib\\\\site-packages\\\\win32\\\\lib', 'D:\\\\anaconda\\\\lib\\\\site-packages\\\\Pythonwin', 'D:\\\\anaconda\\\\lib\\\\site-packages\\\\IPython\\\\extensions', 'C:\\\\Users\\\\cryin\\\\.ipython']\n"
          ],
          "name": "stdout"
        }
      ]
    },
    {
      "cell_type": "markdown",
      "metadata": {
        "id": "kSMAF5-cfU5-"
      },
      "source": [
        "**sys.platform**\n",
        "\n",
        "Значение sys.platform – идентификатор платформы."
      ]
    },
    {
      "cell_type": "code",
      "metadata": {
        "id": "o7I7reLrfU6A",
        "outputId": "c6cbeb6c-11dc-4d94-efca-d7a026ee8490"
      },
      "source": [
        "print(sys.platform)"
      ],
      "execution_count": null,
      "outputs": [
        {
          "output_type": "stream",
          "text": [
            "win32\n"
          ],
          "name": "stdout"
        }
      ]
    },
    {
      "cell_type": "code",
      "metadata": {
        "id": "1HJOOj8YfU6I",
        "outputId": "6f83ad88-6a4e-44f4-9f7f-043cc51b79d8"
      },
      "source": [
        "os = sys.platform\n",
        "if os == 'win32':\n",
        "    print(subprocess.Popen([\"cmd\",\"dir\",\"c:\\\\Users\"]))\n",
        "elif os.startswith('linux'):\n",
        "    subprocess.Popen([\"ls, -l\"])"
      ],
      "execution_count": null,
      "outputs": [
        {
          "output_type": "stream",
          "text": [
            "<subprocess.Popen object at 0x000001A52C4B8160>\n"
          ],
          "name": "stdout"
        }
      ]
    },
    {
      "cell_type": "markdown",
      "metadata": {
        "id": "AcZ0a4BRfU6O"
      },
      "source": [
        "**sys.maxsize**\n",
        "\n",
        "Эта функция возвращает целое число, которое обозначает, какое максимально значение может иметь переменная типа Py_ssize_t в программе Python."
      ]
    },
    {
      "cell_type": "code",
      "metadata": {
        "id": "Cx_Yezj-fU6Q",
        "outputId": "f0981014-f94b-48f2-9611-c2f69b896433"
      },
      "source": [
        "print(sys.maxsize)"
      ],
      "execution_count": null,
      "outputs": [
        {
          "output_type": "stream",
          "text": [
            "9223372036854775807\n"
          ],
          "name": "stdout"
        }
      ]
    },
    {
      "cell_type": "markdown",
      "metadata": {
        "id": "70ahFLzwfU6j"
      },
      "source": [
        "**sys.version**\n",
        "\n",
        "Этот метод показывает версию интерпретатора Python. Он также предоставляет информацию о номере сборки и компиляторе."
      ]
    },
    {
      "cell_type": "code",
      "metadata": {
        "id": "-oZoM_LxfU6j",
        "outputId": "391ec5ad-c9ea-43c0-9a36-edc28962fe23"
      },
      "source": [
        "print(sys.version)"
      ],
      "execution_count": null,
      "outputs": [
        {
          "output_type": "stream",
          "text": [
            "3.8.3 (default, Jul  2 2020, 17:30:36) [MSC v.1916 64 bit (AMD64)]\n"
          ],
          "name": "stdout"
        }
      ]
    },
    {
      "cell_type": "markdown",
      "metadata": {
        "id": "d0LD4I1rfU6q"
      },
      "source": [
        "**sys.stdin / stdout / stderr**\n",
        "\n",
        "Stdin, stdout и stderr сопоставляются с файловыми объектами, которые соответствуют стандартным входам, выходам и потокам ошибок интерпретатора соответственно. Функция stdin используется для всех входов, используемых интерпретатором, за исключением скриптов, тогда как stdout используется для выходов операторов print и expression. Главная причина, по которой я акцентирую на этом внимание, заключается в том, что в какой-то момент вам нужно будет перенаправить stdout или stderr, или обе функции к файлу, такому как log, либо же какой-либо дисплей в пользовательском графическом интерфейсе, созданным вами. Вы также можете перенаправить stdin, но с такими случаями я практически не сталкивался."
      ]
    },
    {
      "cell_type": "markdown",
      "metadata": {
        "id": "4i-Qi7grfU6r"
      },
      "source": [
        "**sys.getwindowsversion**\n",
        "\n",
        "Функция работает только с Windows. Она возвращает кортеж, описывающий, какая версия Windows сейчас запущена. "
      ]
    },
    {
      "cell_type": "code",
      "metadata": {
        "id": "gl_r9BB-fU6u",
        "outputId": "9be4cbde-7530-4e98-8f8d-b7c4d729f4b9"
      },
      "source": [
        "print(sys.getwindowsversion())\n",
        "print(sys.getwindowsversion().platform_version)\n"
      ],
      "execution_count": null,
      "outputs": [
        {
          "output_type": "stream",
          "text": [
            "sys.getwindowsversion(major=10, minor=0, build=18363, platform=2, service_pack='')\n",
            "(10, 0, 18362)\n"
          ],
          "name": "stdout"
        }
      ]
    },
    {
      "cell_type": "markdown",
      "metadata": {
        "id": "eyqih2oKfU62"
      },
      "source": [
        "**sys.modules**\n",
        "Словарь, дающий информацию о загруженных в скрипт модулях."
      ]
    },
    {
      "cell_type": "code",
      "metadata": {
        "id": "MdLDATcIfU62",
        "outputId": "a80c83c4-6229-4e15-c101-8c59deb9be3c"
      },
      "source": [
        "'sys' in sys.modules"
      ],
      "execution_count": null,
      "outputs": [
        {
          "output_type": "execute_result",
          "data": {
            "text/plain": [
              "True"
            ]
          },
          "metadata": {
            "tags": []
          },
          "execution_count": 68
        }
      ]
    },
    {
      "cell_type": "markdown",
      "metadata": {
        "id": "d9mbz4Gs5Td_"
      },
      "source": [
        "# Задания"
      ]
    },
    {
      "cell_type": "markdown",
      "metadata": {
        "id": "w3WhHDBm5XwU"
      },
      "source": [
        "##Задание 1\n",
        "Перепишите следующий код с использованием только модуля `pathlib`:"
      ]
    },
    {
      "cell_type": "code",
      "metadata": {
        "id": "GuMSp8Nw5ryJ",
        "outputId": "88a6538d-cc17-46eb-94c0-a0ecae1849f8",
        "colab": {
          "base_uri": "https://localhost:8080/",
          "height": 56
        }
      },
      "source": [
        "import os\n",
        "from glob import glob\n",
        "\n",
        "for dir_num in range(0, 100, 5):\n",
        "  os.mkdir(f'./dir{dir_num}')\n",
        "\n",
        "dirs_to_write_to = glob('./dir?5')\n",
        "\n",
        "for _dir in dirs_to_write_to:\n",
        "  filepath = os.path.join(_dir, 'file.txt')\n",
        "  if not os.path.isabs(filepath):\n",
        "    filepath = os.path.abspath(filepath)\n",
        "  with open(filepath, 'w') as f:\n",
        "    f.write(f'Absolute path to this file is {filepath}\\n')\n",
        "\n",
        "print(glob('**/file.txt'))"
      ],
      "execution_count": 24,
      "outputs": [
        {
          "output_type": "stream",
          "text": [
            "['dir65/file.txt', 'dir95/file.txt', 'dir25/file.txt', 'dir55/file.txt', 'dir45/file.txt', 'dir75/file.txt', 'dir35/file.txt', 'dir15/file.txt', 'dir85/file.txt']\n"
          ],
          "name": "stdout"
        }
      ]
    }
  ]
}