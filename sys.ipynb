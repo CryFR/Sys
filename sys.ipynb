{
 "cells": [
  {
   "cell_type": "markdown",
   "metadata": {},
   "source": [
    "**SYS**\n",
    "\n",
    "Модуль sys предоставляет программисту набор функций, которые дают информацию о том, как интерпретатор Python взаимодействует с операционной системой.\n",
    "Модуль sys даёт следующую информацию:\n",
    "\n",
    "    - Какая версия Питона запущена.\n",
    "    - Путь к интерпретатору Python, исполняющему текущий скрипт.\n",
    "    - Параметры командной строки, используемые при запуске на выполнение скрипта.\n",
    "    - Флаги, установленные интерпретатором.\n",
    "    - Представление значений с плавающей точкой.\n",
    "    - Многое другое.\n"
   ]
  },
  {
   "cell_type": "markdown",
   "metadata": {},
   "source": [
    "**sys.argv**\n",
    "\n",
    "Значение sys.argv – это список аргументов командной строки, которые причастны к скрипту Python. "
   ]
  },
  {
   "cell_type": "code",
   "execution_count": 43,
   "metadata": {},
   "outputs": [
    {
     "name": "stdout",
     "output_type": "stream",
     "text": [
      "['D:\\\\anaconda\\\\lib\\\\site-packages\\\\ipykernel_launcher.py', '-f', 'C:\\\\Users\\\\cryin\\\\AppData\\\\Roaming\\\\jupyter\\\\runtime\\\\kernel-89c75d79-5419-4bf3-bbab-b207a8f163e0.json']\n"
     ]
    }
   ],
   "source": [
    "import sys\n",
    "print(sys.argv)"
   ]
  },
  {
   "attachments": {
    "27cdfddb-0522-41ea-862f-e05bc4ee01e1.png": {
     "image/png": "[encoded data removed]"
    }
   },
   "cell_type": "markdown",
   "metadata": {},
   "source": [
    "![изображение.png](attachment:27cdfddb-0522-41ea-862f-e05bc4ee01e1.png)"
   ]
  },
  {
   "cell_type": "markdown",
   "metadata": {},
   "source": [
    "**sys.executable**\n",
    "\n",
    "Значение sys.executable – это полный путь к интерпретатору Python. \n"
   ]
  },
  {
   "cell_type": "code",
   "execution_count": 44,
   "metadata": {},
   "outputs": [
    {
     "name": "stdout",
     "output_type": "stream",
     "text": [
      "D:\\anaconda\\python.exe\n"
     ]
    }
   ],
   "source": [
    "print(sys.executable)"
   ]
  },
  {
   "cell_type": "markdown",
   "metadata": {},
   "source": [
    "**sys.exit**\n",
    "\n",
    "Данная функция позволяет разработчику выйти из Python."
   ]
  },
  {
   "cell_type": "markdown",
   "metadata": {},
   "source": [
    "sys.exit(0)"
   ]
  },
  {
   "cell_type": "code",
   "execution_count": 45,
   "metadata": {},
   "outputs": [
    {
     "name": "stdout",
     "output_type": "stream",
     "text": [
      "0\n"
     ]
    }
   ],
   "source": [
    "import subprocess\n",
    " \n",
    "code = subprocess.call([\"python.exe\", \"exit.py\"])\n",
    "print(code)"
   ]
  },
  {
   "cell_type": "markdown",
   "metadata": {},
   "source": [
    "**sys.path**\n",
    "\n",
    "Значение функции path модуля sys – это список строк, которые указывают путь поиска для модулей. "
   ]
  },
  {
   "cell_type": "code",
   "execution_count": 46,
   "metadata": {},
   "outputs": [
    {
     "name": "stdout",
     "output_type": "stream",
     "text": [
      "['C:\\\\Users\\\\cryin', 'D:\\\\anaconda\\\\python38.zip', 'D:\\\\anaconda\\\\DLLs', 'D:\\\\anaconda\\\\lib', 'D:\\\\anaconda', '', 'D:\\\\anaconda\\\\lib\\\\site-packages', 'D:\\\\anaconda\\\\lib\\\\site-packages\\\\win32', 'D:\\\\anaconda\\\\lib\\\\site-packages\\\\win32\\\\lib', 'D:\\\\anaconda\\\\lib\\\\site-packages\\\\Pythonwin', 'D:\\\\anaconda\\\\lib\\\\site-packages\\\\IPython\\\\extensions', 'C:\\\\Users\\\\cryin\\\\.ipython']\n"
     ]
    }
   ],
   "source": [
    "print(sys.path)"
   ]
  },
  {
   "cell_type": "markdown",
   "metadata": {},
   "source": [
    "Добавление пути:"
   ]
  },
  {
   "cell_type": "code",
   "execution_count": 47,
   "metadata": {},
   "outputs": [
    {
     "name": "stdout",
     "output_type": "stream",
     "text": [
      "['C:\\\\Users\\\\cryin', 'D:\\\\anaconda\\\\python38.zip', 'D:\\\\anaconda\\\\DLLs', 'D:\\\\anaconda\\\\lib', 'D:\\\\anaconda', '', 'D:\\\\anaconda\\\\lib\\\\site-packages', 'D:\\\\anaconda\\\\lib\\\\site-packages\\\\win32', 'D:\\\\anaconda\\\\lib\\\\site-packages\\\\win32\\\\lib', 'D:\\\\anaconda\\\\lib\\\\site-packages\\\\Pythonwin', 'D:\\\\anaconda\\\\lib\\\\site-packages\\\\IPython\\\\extensions', 'C:\\\\Users\\\\cryin\\\\.ipython', '/path/to/my/module']\n"
     ]
    }
   ],
   "source": [
    "if \"/path/to/my/module\" not in sys.path:\n",
    "    sys.path.append(\"/path/to/my/module\")\n",
    "print(sys.path)"
   ]
  },
  {
   "cell_type": "code",
   "execution_count": 48,
   "metadata": {},
   "outputs": [
    {
     "name": "stdout",
     "output_type": "stream",
     "text": [
      "['C:\\\\Users\\\\cryin', 'D:\\\\anaconda\\\\python38.zip', 'D:\\\\anaconda\\\\DLLs', 'D:\\\\anaconda\\\\lib', 'D:\\\\anaconda', '', 'D:\\\\anaconda\\\\lib\\\\site-packages', 'D:\\\\anaconda\\\\lib\\\\site-packages\\\\win32', 'D:\\\\anaconda\\\\lib\\\\site-packages\\\\win32\\\\lib', 'D:\\\\anaconda\\\\lib\\\\site-packages\\\\Pythonwin', 'D:\\\\anaconda\\\\lib\\\\site-packages\\\\IPython\\\\extensions', 'C:\\\\Users\\\\cryin\\\\.ipython']\n"
     ]
    }
   ],
   "source": [
    "if \"/path/to/my/module\" in sys.path:    \n",
    "    sys.path.remove(\"/path/to/my/module\")\n",
    "print(sys.path)"
   ]
  },
  {
   "cell_type": "markdown",
   "metadata": {},
   "source": [
    "**sys.platform**\n",
    "\n",
    "Значение sys.platform – идентификатор платформы."
   ]
  },
  {
   "cell_type": "code",
   "execution_count": 49,
   "metadata": {},
   "outputs": [
    {
     "name": "stdout",
     "output_type": "stream",
     "text": [
      "win32\n"
     ]
    }
   ],
   "source": [
    "print(sys.platform)"
   ]
  },
  {
   "cell_type": "code",
   "execution_count": 51,
   "metadata": {},
   "outputs": [
    {
     "name": "stdout",
     "output_type": "stream",
     "text": [
      "<subprocess.Popen object at 0x000001A52C4B8160>\n"
     ]
    }
   ],
   "source": [
    "os = sys.platform\n",
    "if os == 'win32':\n",
    "    print(subprocess.Popen([\"cmd\",\"dir\",\"c:\\\\Users\"]))\n",
    "elif os.startswith('linux'):\n",
    "    subprocess.Popen([\"ls, -l\"])"
   ]
  },
  {
   "cell_type": "markdown",
   "metadata": {},
   "source": [
    "**sys.maxsize**\n",
    "\n",
    "Эта функция возвращает целое число, которое обозначает, какое максимально значение может иметь переменная типа Py_ssize_t в программе Python."
   ]
  },
  {
   "cell_type": "code",
   "execution_count": 52,
   "metadata": {},
   "outputs": [
    {
     "name": "stdout",
     "output_type": "stream",
     "text": [
      "9223372036854775807\n"
     ]
    }
   ],
   "source": [
    "print(sys.maxsize)"
   ]
  },
  {
   "cell_type": "markdown",
   "metadata": {},
   "source": [
    "**sys.version**\n",
    "\n",
    "Этот метод показывает версию интерпретатора Python. Он также предоставляет информацию о номере сборки и компиляторе."
   ]
  },
  {
   "cell_type": "code",
   "execution_count": 54,
   "metadata": {},
   "outputs": [
    {
     "name": "stdout",
     "output_type": "stream",
     "text": [
      "3.8.3 (default, Jul  2 2020, 17:30:36) [MSC v.1916 64 bit (AMD64)]\n"
     ]
    }
   ],
   "source": [
    "print(sys.version)"
   ]
  },
  {
   "cell_type": "markdown",
   "metadata": {},
   "source": [
    "**sys.stdin / stdout / stderr**\n",
    "\n",
    "Stdin, stdout и stderr сопоставляются с файловыми объектами, которые соответствуют стандартным входам, выходам и потокам ошибок интерпретатора соответственно. Функция stdin используется для всех входов, используемых интерпретатором, за исключением скриптов, тогда как stdout используется для выходов операторов print и expression. Главная причина, по которой я акцентирую на этом внимание, заключается в том, что в какой-то момент вам нужно будет перенаправить stdout или stderr, или обе функции к файлу, такому как log, либо же какой-либо дисплей в пользовательском графическом интерфейсе, созданным вами. Вы также можете перенаправить stdin, но с такими случаями я практически не сталкивался."
   ]
  },
  {
   "cell_type": "markdown",
   "metadata": {},
   "source": [
    "**sys.getwindowsversion**\n",
    "\n",
    "Функция работает только с Windows. Она возвращает кортеж, описывающий, какая версия Windows сейчас запущена. "
   ]
  },
  {
   "cell_type": "code",
   "execution_count": 58,
   "metadata": {},
   "outputs": [
    {
     "name": "stdout",
     "output_type": "stream",
     "text": [
      "sys.getwindowsversion(major=10, minor=0, build=18363, platform=2, service_pack='')\n",
      "(10, 0, 18362)\n"
     ]
    }
   ],
   "source": [
    "print(sys.getwindowsversion())\n",
    "print(sys.getwindowsversion().platform_version)\n"
   ]
  },
  {
   "cell_type": "markdown",
   "metadata": {},
   "source": [
    "**sys.modules**\n",
    "Словарь, дающий информацию о загруженных в скрипт модулях."
   ]
  },
  {
   "cell_type": "code",
   "execution_count": 68,
   "metadata": {},
   "outputs": [
    {
     "data": {
      "text/plain": [
       "True"
      ]
     },
     "execution_count": 68,
     "metadata": {},
     "output_type": "execute_result"
    }
   ],
   "source": [
    "'sys' in sys.modules"
   ]
  }
 ],
 "metadata": {
  "kernelspec": {
   "display_name": "Python 3",
   "language": "python",
   "name": "python3"
  },
  "language_info": {
   "codemirror_mode": {
    "name": "ipython",
    "version": 3
   },
   "file_extension": ".py",
   "mimetype": "text/x-python",
   "name": "python",
   "nbconvert_exporter": "python",
   "pygments_lexer": "ipython3",
   "version": "3.8.3"
  }
 },
 "nbformat": 4,
 "nbformat_minor": 4
}
