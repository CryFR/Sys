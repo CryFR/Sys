{
 "cells": [
  {
   "cell_type": "markdown",
   "metadata": {},
   "source": [
    "### CSV\n",
    "\n",
    "CSV (comma-separated value) - это формат представления табличных данных (например, это могут быть данные из таблицы или данные из БД).\n"
   ]
  },
  {
   "cell_type": "markdown",
   "metadata": {},
   "source": [
    "Пример файла в формате CSV (sw_data.csv):"
   ]
  },
  {
   "cell_type": "raw",
   "metadata": {},
   "source": [
    "hostname,vendor,model,location\n",
    "sw1,Cisco,3750,London\n",
    "sw2,Cisco,3850,Liverpool\n",
    "sw3,Cisco,3650,Liverpool\n",
    "sw4,Cisco,3650,London"
   ]
  },
  {
   "cell_type": "markdown",
   "metadata": {},
   "source": [
    "**csv.reader**\n",
    "\n",
    "Пример чтения файла в формате CSV (файл csv_read.py):\n"
   ]
  },
  {
   "cell_type": "code",
   "execution_count": 2,
   "metadata": {},
   "outputs": [
    {
     "name": "stdout",
     "output_type": "stream",
     "text": [
      "['hostname', 'vendor', 'model', 'location']\n",
      "['sw1', 'Cisco', '3750', 'London']\n",
      "['sw2', 'Cisco', '3850', 'Liverpool']\n",
      "['sw3', 'Cisco', '3650', 'Liverpool']\n",
      "['sw4', 'Cisco', '3650', 'London']\n"
     ]
    }
   ],
   "source": [
    "import csv\n",
    "\n",
    "with open('sw_data.csv') as f:\n",
    "    reader = csv.reader(f)\n",
    "    for row in reader:\n",
    "        print(row)"
   ]
  },
  {
   "cell_type": "code",
   "execution_count": 3,
   "metadata": {},
   "outputs": [
    {
     "name": "stdout",
     "output_type": "stream",
     "text": [
      "<_csv.reader object at 0x0000014FB9EA2DC0>\n"
     ]
    }
   ],
   "source": [
    "with open('sw_data.csv') as f:\n",
    "    reader = csv.reader(f)\n",
    "    print(reader)"
   ]
  },
  {
   "cell_type": "code",
   "execution_count": 4,
   "metadata": {},
   "outputs": [
    {
     "name": "stdout",
     "output_type": "stream",
     "text": [
      "[['hostname', 'vendor', 'model', 'location'], ['sw1', 'Cisco', '3750', 'London'], ['sw2', 'Cisco', '3850', 'Liverpool'], ['sw3', 'Cisco', '3650', 'Liverpool'], ['sw4', 'Cisco', '3650', 'London']]\n"
     ]
    }
   ],
   "source": [
    "with open('sw_data.csv') as f:\n",
    "     reader = csv.reader(f)\n",
    "     print(list(reader))"
   ]
  },
  {
   "cell_type": "markdown",
   "metadata": {},
   "source": [
    "**csv.DictReader**\n",
    "\n",
    "Он создает объект, который отображает прочитанную информацию в словарь, ключи которого задаются параметром fieldnames. Этот параметр является необязательным, но если он не указан в файле, данные первой строки становятся ключами словаря."
   ]
  },
  {
   "cell_type": "code",
   "execution_count": 5,
   "metadata": {},
   "outputs": [
    {
     "name": "stdout",
     "output_type": "stream",
     "text": [
      "{'hostname': 'sw1', 'vendor': 'Cisco', 'model': '3750', 'location': 'London'}\n",
      "sw1 3750\n",
      "{'hostname': 'sw2', 'vendor': 'Cisco', 'model': '3850', 'location': 'Liverpool'}\n",
      "sw2 3850\n",
      "{'hostname': 'sw3', 'vendor': 'Cisco', 'model': '3650', 'location': 'Liverpool'}\n",
      "sw3 3650\n",
      "{'hostname': 'sw4', 'vendor': 'Cisco', 'model': '3650', 'location': 'London'}\n",
      "sw4 3650\n"
     ]
    }
   ],
   "source": [
    "with open('sw_data.csv') as f:\n",
    "    reader = csv.DictReader(f)\n",
    "    for row in reader:\n",
    "        print(row)\n",
    "        print(row['hostname'], row['model'])"
   ]
  },
  {
   "cell_type": "markdown",
   "metadata": {},
   "source": [
    "**csv.DictWriter**"
   ]
  },
  {
   "cell_type": "markdown",
   "metadata": {},
   "source": [
    "Этот класс аналогичен классу DictWriter и выполняет противоположную функцию: запись данных в файл CSV. Класс определяется "
   ]
  },
  {
   "cell_type": "raw",
   "metadata": {},
   "source": [
    "csv.DictWriter(csvfile, fieldnames,restval='', extrasaction='raise',dialect='excel', *args, **kwds)"
   ]
  },
  {
   "cell_type": "code",
   "execution_count": 2,
   "metadata": {},
   "outputs": [],
   "source": [
    "data = [{'Grade': 'B', 'first_name': 'Alex', 'last_name': 'Brian'}, \n",
    "{'Grade': 'A', 'first_name': 'Rachael', 'last_name': 'Rodriguez'},\n",
    "{'Grade': 'C', 'first_name': 'Tom', 'last_name': 'smith'},\n",
    "{'Grade': 'B', 'first_name': 'Jane', 'last_name': 'Oscar'}, \n",
    "{'Grade': 'A', 'first_name': 'Kennzy', 'last_name': 'Tim'}]"
   ]
  },
  {
   "cell_type": "code",
   "execution_count": 12,
   "metadata": {},
   "outputs": [
    {
     "name": "stdout",
     "output_type": "stream",
     "text": [
      "Writing complete\n"
     ]
    }
   ],
   "source": [
    "import csv\n",
    "with open('example.csv', 'w') as csvfile:\n",
    "    fieldnames = ['first_name', 'last_name', 'Grade']\n",
    "    writer = csv.DictWriter(csvfile, fieldnames=fieldnames)\n",
    " \n",
    "    writer.writeheader()\n",
    "    writer.writerow({'Grade': 'B', 'first_name': 'Alex', 'last_name': 'Brian'})\n",
    "    writer.writerow({'Grade': 'A', 'first_name': 'Rachael','last_name': 'Rodriguez'})\n",
    "    writer.writerow({'Grade': 'B', 'first_name': 'Jane', 'last_name': 'Oscar'})\n",
    "    writer.writerow({'Grade': 'B', 'first_name': 'Jane', 'last_name': 'Loive'})\n",
    " \n",
    "print(\"Writing complete\")"
   ]
  },
  {
   "cell_type": "code",
   "execution_count": 14,
   "metadata": {},
   "outputs": [
    {
     "name": "stdout",
     "output_type": "stream",
     "text": [
      "writing complete\n"
     ]
    }
   ],
   "source": [
    "import csv\n",
    " \n",
    "with open('example.csv', 'w') as csvfile:\n",
    "    fieldnames = ['first_name', 'last_name', 'Grade']\n",
    "    writer = csv.DictWriter(csvfile, fieldnames=fieldnames)\n",
    " \n",
    "    writer.writeheader()\n",
    "    writer.writerows([{'Grade': 'B', 'first_name': 'Alex', 'last_name': 'Brian'},\n",
    "                      {'Grade': 'A', 'first_name': 'Rachael','last_name': 'Rodriguez'},\n",
    "                      {'Grade': 'C', 'first_name': 'Tom', 'last_name': 'smith'},\n",
    "                      {'Grade': 'B', 'first_name': 'Jane', 'last_name': 'Oscar'},\n",
    "                      {'Grade': 'A', 'first_name': 'Kennzy', 'last_name': 'Tim'}])\n",
    " \n",
    "print(\"writing complete\")"
   ]
  },
  {
   "cell_type": "markdown",
   "metadata": {},
   "source": [
    "### XML"
   ]
  },
  {
   "cell_type": "markdown",
   "metadata": {},
   "source": [
    "**Введение в XML**\n",
    "\n",
    "XML — это язык разметки для описания иерархии структурированных данных. XML документ содержит один или более элементов разделённых открывающими и закрывающими тегами.\n",
    "\n",
    "XML документ:"
   ]
  },
  {
   "cell_type": "raw",
   "metadata": {},
   "source": [
    "<foo> \n",
    "</foo>"
   ]
  },
  {
   "cell_type": "markdown",
   "metadata": {},
   "source": [
    "Элементы могут быть неограниченно вложены друг в друга. Так как элемент bar вложен в элемент foo, то его называют подэлементом или дочерним элементом элемента foo."
   ]
  },
  {
   "cell_type": "raw",
   "metadata": {},
   "source": [
    "<foo>\n",
    "  <bar></bar>\n",
    "</foo>"
   ]
  },
  {
   "cell_type": "markdown",
   "metadata": {},
   "source": [
    "Пример представленный ниже не является XML документом, так как он имеет два корневых элемента:"
   ]
  },
  {
   "cell_type": "raw",
   "metadata": {},
   "source": [
    "<foo></foo>\n",
    "<bar></bar>"
   ]
  },
  {
   "cell_type": "markdown",
   "metadata": {},
   "source": [
    "Элементы могут иметь атрибуты состоящие из пары имя-значение."
   ]
  },
  {
   "cell_type": "raw",
   "metadata": {},
   "source": [
    "<foo lang='en'>                         \n",
    "  <bar id='papayawhip' lang=\"fr\"></bar>  \n",
    "</foo>"
   ]
  },
  {
   "cell_type": "markdown",
   "metadata": {},
   "source": [
    "Элементы могут иметь текст (текстовое содержание)."
   ]
  },
  {
   "cell_type": "raw",
   "metadata": {},
   "source": [
    "<foo lang='en'>\n",
    "  <bar lang='fr'>PapayaWhip</bar>\n",
    "</foo>"
   ]
  },
  {
   "cell_type": "markdown",
   "metadata": {},
   "source": [
    "Элементы которые не содержат текста и дочерних элементов называются пустыми."
   ]
  },
  {
   "cell_type": "raw",
   "metadata": {},
   "source": [
    "<foo></foo>"
   ]
  },
  {
   "cell_type": "markdown",
   "metadata": {},
   "source": [
    "Существует сокращённая запись пустого элемента. Поместив знак дроби / в конце открывающего тега, вы можете пропустить закрывающий тег. XML документ предыдущего примера с пустым элементов может быть записан следующим образом:"
   ]
  },
  {
   "cell_type": "raw",
   "metadata": {},
   "source": [
    "<foo/>"
   ]
  },
  {
   "cell_type": "markdown",
   "metadata": {},
   "source": [
    "Для объявления пространства имён по умолчанию используется директива xmlns. Объявление пространства имён очень похоже на атрибут, но имеет специальное значение."
   ]
  },
  {
   "cell_type": "raw",
   "metadata": {},
   "source": [
    "<feed xmlns='http://www.w3.org/2005/Atom'>  \n",
    "  <title>dive into mark</title>             \n",
    "</feed>"
   ]
  },
  {
   "cell_type": "raw",
   "metadata": {},
   "source": [
    "<atom:feed xmlns:atom='http://www.w3.org/2005/Atom'> \n",
    "  <atom:title>dive into mark</atom:title>            \n",
    "</atom:feed>"
   ]
  },
  {
   "cell_type": "markdown",
   "metadata": {},
   "source": [
    "XML документы могут содержать информацию о кодировке символов в первой строке до корневого элемента. "
   ]
  },
  {
   "cell_type": "raw",
   "metadata": {},
   "source": [
    "<?xml version='1.0' encoding='utf-8'?>"
   ]
  },
  {
   "cell_type": "markdown",
   "metadata": {},
   "source": [
    "**Синтаксический разбор XML**"
   ]
  },
  {
   "cell_type": "code",
   "execution_count": 26,
   "metadata": {},
   "outputs": [
    {
     "data": {
      "text/plain": [
       "<Element '{http://www.w3.org/2005/Atom}feed' at 0x000002A060170220>"
      ]
     },
     "execution_count": 26,
     "metadata": {},
     "output_type": "execute_result"
    }
   ],
   "source": [
    ">>> import xml.etree.ElementTree as etree   \n",
    ">>> tree = etree.parse('feed.xml')  \n",
    ">>> root = tree.getroot()                    \n",
    ">>> root    "
   ]
  },
  {
   "cell_type": "markdown",
   "metadata": {},
   "source": [
    "**Элементы XML есть списки Python**"
   ]
  },
  {
   "cell_type": "markdown",
   "metadata": {},
   "source": [
    "В API ElementTree элементы представляются встроенным типом Python - списком. Каждый из элементов списка представляет собой дочерние XML элементы."
   ]
  },
  {
   "cell_type": "code",
   "execution_count": 27,
   "metadata": {},
   "outputs": [
    {
     "data": {
      "text/plain": [
       "'{http://www.w3.org/2005/Atom}feed'"
      ]
     },
     "execution_count": 27,
     "metadata": {},
     "output_type": "execute_result"
    }
   ],
   "source": [
    "root.tag         "
   ]
  },
  {
   "cell_type": "code",
   "execution_count": 28,
   "metadata": {},
   "outputs": [
    {
     "data": {
      "text/plain": [
       "9"
      ]
     },
     "execution_count": 28,
     "metadata": {},
     "output_type": "execute_result"
    }
   ],
   "source": [
    "len(root)"
   ]
  },
  {
   "cell_type": "code",
   "execution_count": 29,
   "metadata": {},
   "outputs": [
    {
     "name": "stdout",
     "output_type": "stream",
     "text": [
      "<Element '{http://www.w3.org/2005/Atom}feed' at 0x000002A060170220>\n",
      "<Element '{http://www.w3.org/2005/Atom}feed' at 0x000002A060170220>\n",
      "<Element '{http://www.w3.org/2005/Atom}feed' at 0x000002A060170220>\n",
      "<Element '{http://www.w3.org/2005/Atom}feed' at 0x000002A060170220>\n",
      "<Element '{http://www.w3.org/2005/Atom}feed' at 0x000002A060170220>\n",
      "<Element '{http://www.w3.org/2005/Atom}feed' at 0x000002A060170220>\n",
      "<Element '{http://www.w3.org/2005/Atom}feed' at 0x000002A060170220>\n",
      "<Element '{http://www.w3.org/2005/Atom}feed' at 0x000002A060170220>\n",
      "<Element '{http://www.w3.org/2005/Atom}feed' at 0x000002A060170220>\n"
     ]
    }
   ],
   "source": [
    "for child in root: \n",
    "    print(root)"
   ]
  },
  {
   "cell_type": "markdown",
   "metadata": {},
   "source": [
    "**Атрибуты XML есть словари Python**"
   ]
  },
  {
   "cell_type": "markdown",
   "metadata": {},
   "source": [
    "Документ XML это не только набор элементов; каждый элемент так же имеет набор атрибутов. Имея конкретный XML элемент, Вы можете легко получить его атрибуты как словарь Python."
   ]
  },
  {
   "cell_type": "code",
   "execution_count": 30,
   "metadata": {},
   "outputs": [
    {
     "data": {
      "text/plain": [
       "{'{http://www.w3.org/XML/1998/namespace}lang': 'en'}"
      ]
     },
     "execution_count": 30,
     "metadata": {},
     "output_type": "execute_result"
    }
   ],
   "source": [
    "root.attrib     "
   ]
  },
  {
   "cell_type": "code",
   "execution_count": 31,
   "metadata": {},
   "outputs": [
    {
     "data": {
      "text/plain": [
       "<Element '{http://www.w3.org/2005/Atom}link' at 0x000002A0601776D0>"
      ]
     },
     "execution_count": 31,
     "metadata": {},
     "output_type": "execute_result"
    }
   ],
   "source": [
    "root[4]       "
   ]
  },
  {
   "cell_type": "code",
   "execution_count": 32,
   "metadata": {},
   "outputs": [
    {
     "data": {
      "text/plain": [
       "{'rel': 'alternate', 'type': 'text/html', 'href': 'http://diveintomark.org/'}"
      ]
     },
     "execution_count": 32,
     "metadata": {},
     "output_type": "execute_result"
    }
   ],
   "source": [
    "root[4].attrib           "
   ]
  },
  {
   "cell_type": "code",
   "execution_count": 33,
   "metadata": {},
   "outputs": [
    {
     "data": {
      "text/plain": [
       "<Element '{http://www.w3.org/2005/Atom}updated' at 0x000002A0601779F0>"
      ]
     },
     "execution_count": 33,
     "metadata": {},
     "output_type": "execute_result"
    }
   ],
   "source": [
    "root[3] "
   ]
  },
  {
   "cell_type": "code",
   "execution_count": 34,
   "metadata": {},
   "outputs": [
    {
     "data": {
      "text/plain": [
       "{}"
      ]
     },
     "execution_count": 34,
     "metadata": {},
     "output_type": "execute_result"
    }
   ],
   "source": [
    "root[3].attrib "
   ]
  },
  {
   "cell_type": "markdown",
   "metadata": {},
   "source": [
    "**Поиск узлов в XML документе**"
   ]
  },
  {
   "cell_type": "code",
   "execution_count": 35,
   "metadata": {},
   "outputs": [
    {
     "data": {
      "text/plain": [
       "[<Element '{http://www.w3.org/2005/Atom}entry' at 0x000002A060177360>,\n",
       " <Element '{http://www.w3.org/2005/Atom}entry' at 0x000002A06013E540>,\n",
       " <Element '{http://www.w3.org/2005/Atom}entry' at 0x000002A06013E220>]"
      ]
     },
     "execution_count": 35,
     "metadata": {},
     "output_type": "execute_result"
    }
   ],
   "source": [
    "root.findall('{http://www.w3.org/2005/Atom}entry') "
   ]
  },
  {
   "cell_type": "code",
   "execution_count": 36,
   "metadata": {},
   "outputs": [
    {
     "data": {
      "text/plain": [
       "'{http://www.w3.org/2005/Atom}feed'"
      ]
     },
     "execution_count": 36,
     "metadata": {},
     "output_type": "execute_result"
    }
   ],
   "source": [
    "root.tag"
   ]
  },
  {
   "cell_type": "code",
   "execution_count": 37,
   "metadata": {},
   "outputs": [
    {
     "data": {
      "text/plain": [
       "[]"
      ]
     },
     "execution_count": 37,
     "metadata": {},
     "output_type": "execute_result"
    }
   ],
   "source": [
    "root.findall('{http://www.w3.org/2005/Atom}feed')"
   ]
  },
  {
   "cell_type": "code",
   "execution_count": 38,
   "metadata": {},
   "outputs": [
    {
     "data": {
      "text/plain": [
       "[]"
      ]
     },
     "execution_count": 38,
     "metadata": {},
     "output_type": "execute_result"
    }
   ],
   "source": [
    "root.findall('{http://www.w3.org/2005/Atom}author')"
   ]
  },
  {
   "cell_type": "code",
   "execution_count": 39,
   "metadata": {},
   "outputs": [
    {
     "data": {
      "text/plain": [
       "[<Element '{http://www.w3.org/2005/Atom}entry' at 0x000002A060177360>,\n",
       " <Element '{http://www.w3.org/2005/Atom}entry' at 0x000002A06013E540>,\n",
       " <Element '{http://www.w3.org/2005/Atom}entry' at 0x000002A06013E220>]"
      ]
     },
     "execution_count": 39,
     "metadata": {},
     "output_type": "execute_result"
    }
   ],
   "source": [
    "tree.findall('{http://www.w3.org/2005/Atom}entry') "
   ]
  },
  {
   "cell_type": "code",
   "execution_count": 40,
   "metadata": {},
   "outputs": [
    {
     "data": {
      "text/plain": [
       "[]"
      ]
     },
     "execution_count": 40,
     "metadata": {},
     "output_type": "execute_result"
    }
   ],
   "source": [
    "tree.findall('{http://www.w3.org/2005/Atom}author')"
   ]
  },
  {
   "cell_type": "code",
   "execution_count": 41,
   "metadata": {},
   "outputs": [
    {
     "data": {
      "text/plain": [
       "3"
      ]
     },
     "execution_count": 41,
     "metadata": {},
     "output_type": "execute_result"
    }
   ],
   "source": [
    "entries = tree.findall('{http://www.w3.org/2005/Atom}entry')  \n",
    "len(entries)"
   ]
  },
  {
   "cell_type": "code",
   "execution_count": 42,
   "metadata": {},
   "outputs": [
    {
     "data": {
      "text/plain": [
       "'Dive into history, 2009 edition'"
      ]
     },
     "execution_count": 42,
     "metadata": {},
     "output_type": "execute_result"
    }
   ],
   "source": [
    "title_element = entries[0].find('{http://www.w3.org/2005/Atom}title')\n",
    "title_element.text"
   ]
  },
  {
   "cell_type": "code",
   "execution_count": 43,
   "metadata": {},
   "outputs": [
    {
     "data": {
      "text/plain": [
       "NoneType"
      ]
     },
     "execution_count": 43,
     "metadata": {},
     "output_type": "execute_result"
    }
   ],
   "source": [
    "foo_element = entries[0].find('{http://www.w3.org/2005/Atom}foo')\n",
    "foo_element\n",
    "type(foo_element)"
   ]
  },
  {
   "cell_type": "code",
   "execution_count": 46,
   "metadata": {},
   "outputs": [
    {
     "data": {
      "text/plain": [
       "[<Element '{http://www.w3.org/2005/Atom}link' at 0x000002A0601776D0>,\n",
       " <Element '{http://www.w3.org/2005/Atom}link' at 0x000002A060177090>,\n",
       " <Element '{http://www.w3.org/2005/Atom}link' at 0x000002A060177680>,\n",
       " <Element '{http://www.w3.org/2005/Atom}link' at 0x000002A06013EDB0>,\n",
       " <Element '{http://www.w3.org/2005/Atom}link' at 0x000002A060185040>]"
      ]
     },
     "execution_count": 46,
     "metadata": {},
     "output_type": "execute_result"
    }
   ],
   "source": [
    "all_links = tree.findall('.//{http://www.w3.org/2005/Atom}link') \n",
    "all_links"
   ]
  },
  {
   "cell_type": "code",
   "execution_count": 47,
   "metadata": {},
   "outputs": [
    {
     "data": {
      "text/plain": [
       "{'rel': 'alternate', 'type': 'text/html', 'href': 'http://diveintomark.org/'}"
      ]
     },
     "execution_count": 47,
     "metadata": {},
     "output_type": "execute_result"
    }
   ],
   "source": [
    "all_links[0].attrib"
   ]
  },
  {
   "cell_type": "markdown",
   "metadata": {},
   "source": [
    "**Создание XML**"
   ]
  },
  {
   "cell_type": "code",
   "execution_count": 22,
   "metadata": {},
   "outputs": [
    {
     "name": "stdout",
     "output_type": "stream",
     "text": [
      "b'<ns0:feed xmlns:ns0=\"http://www.w3.org/2005/Atom\" xml:lang=\"en\" />'\n"
     ]
    }
   ],
   "source": [
    "new_feed = etree.Element('{http://www.w3.org/2005/Atom}feed',     \n",
    "    attrib={'{http://www.w3.org/XML/1998/namespace}lang': 'en'})  \n",
    "print(etree.tostring(new_feed))                                   "
   ]
  },
  {
   "cell_type": "markdown",
   "metadata": {},
   "source": [
    "### XML"
   ]
  },
  {
   "cell_type": "markdown",
   "metadata": {},
   "source": [
    "**xml.etree.ElementTree** — реализация API для работы с XML файлами на чистом Python"
   ]
  },
  {
   "cell_type": "markdown",
   "metadata": {},
   "source": [
    "**Element**\n",
    "\n",
    "Функция Element () используется для создания элементов XML"
   ]
  },
  {
   "cell_type": "code",
   "execution_count": 1,
   "metadata": {},
   "outputs": [],
   "source": [
    "import xml.etree.ElementTree as xml\n",
    "p = xml.Element('parent')"
   ]
  },
  {
   "cell_type": "markdown",
   "metadata": {},
   "source": [
    "**SubElement**\n",
    "\n",
    "Функция SubElement (), используемая для создания вложенных элементов в элементе give"
   ]
  },
  {
   "cell_type": "code",
   "execution_count": 2,
   "metadata": {},
   "outputs": [],
   "source": [
    "c = xml.SubElement(p, 'child1')"
   ]
  },
  {
   "cell_type": "markdown",
   "metadata": {},
   "source": [
    "**dump**\n",
    "\n",
    "Используется для вывода элементов xml."
   ]
  },
  {
   "cell_type": "code",
   "execution_count": 3,
   "metadata": {},
   "outputs": [
    {
     "name": "stdout",
     "output_type": "stream",
     "text": [
      "<parent><child1 /></parent>\n"
     ]
    }
   ],
   "source": [
    "xml.dump(p)"
   ]
  },
  {
   "cell_type": "markdown",
   "metadata": {},
   "source": [
    "**write**\n",
    "\n",
    "Используется для сохранения файла."
   ]
  },
  {
   "cell_type": "code",
   "execution_count": 4,
   "metadata": {},
   "outputs": [],
   "source": [
    "tree = xml.ElementTree(p)\n",
    "tree.write(\"sample.xml\")"
   ]
  },
  {
   "cell_type": "markdown",
   "metadata": {},
   "source": [
    "**Comment**\n",
    "\n",
    "Функция Comment() используется для вставки комментариев в XML-файл."
   ]
  },
  {
   "cell_type": "code",
   "execution_count": 6,
   "metadata": {},
   "outputs": [
    {
     "name": "stdout",
     "output_type": "stream",
     "text": [
      "<parent><child1 /><!--user comment--><!--user comment--></parent>\n"
     ]
    }
   ],
   "source": [
    "comment = xml.Comment('user comment')\n",
    "p.append(comment) #этот комментарий будет добавлен к родительскому элементу\n",
    "\n",
    "xml.dump(p)"
   ]
  },
  {
   "cell_type": "code",
   "execution_count": 38,
   "metadata": {},
   "outputs": [
    {
     "name": "stdout",
     "output_type": "stream",
     "text": [
      "<Element 'child1' at 0x000001AC7FCFE3B0>\n"
     ]
    }
   ],
   "source": [
    "tree = xml.parse('sample.xml')\n",
    "root=tree.getroot()\n",
    "element = root[0] #получите первого ребенка родительского корня\n",
    "print(element)"
   ]
  },
  {
   "cell_type": "code",
   "execution_count": 39,
   "metadata": {},
   "outputs": [],
   "source": [
    "element.set('attribute_name', 'attribute_value') #установите артрибут xml элементу\n",
    "element.text=\"string_text\""
   ]
  },
  {
   "cell_type": "code",
   "execution_count": 40,
   "metadata": {},
   "outputs": [],
   "source": [
    "root.remove(element)"
   ]
  },
  {
   "cell_type": "code",
   "execution_count": 41,
   "metadata": {},
   "outputs": [],
   "source": [
    "tree.write('sample.xml')"
   ]
  },
  {
   "cell_type": "markdown",
   "metadata": {},
   "source": [
    "**Пример создания XML**"
   ]
  },
  {
   "cell_type": "code",
   "execution_count": 7,
   "metadata": {},
   "outputs": [],
   "source": [
    "import xml.etree.ElementTree as xml\n",
    " \n",
    "def createXML(filename):\n",
    "    \"\"\"\n",
    "    Создаем XML файл.\n",
    "    \"\"\"\n",
    "    root = xml.Element(\"zAppointments\")\n",
    "    appt = xml.Element(\"appointment\")\n",
    "    root.append(appt)\n",
    "    \n",
    "    # создаем дочерний суб-элемент. \n",
    "    begin = xml.SubElement(appt, \"begin\")\n",
    "    begin.text = \"1181251680\"\n",
    "    \n",
    "    uid = xml.SubElement(appt, \"uid\")\n",
    "    uid.text = \"040000008200E000\"\n",
    "    \n",
    "    alarmTime = xml.SubElement(appt, \"alarmTime\")\n",
    "    alarmTime.text = \"1181572063\"\n",
    "    \n",
    "    state = xml.SubElement(appt, \"state\")\n",
    "    \n",
    "    location = xml.SubElement(appt, \"location\")\n",
    "    \n",
    "    duration = xml.SubElement(appt, \"duration\")\n",
    "    duration.text = \"1800\"\n",
    "    \n",
    "    subject = xml.SubElement(appt, \"subject\")\n",
    "    \n",
    "    tree = xml.ElementTree(root)\n",
    "    with open(filename, \"w\") as fh:\n",
    "        tree.write(open('appt.xml', 'w'), encoding='unicode')\n",
    " \n",
    "createXML(\"appt.xml\")"
   ]
  },
  {
   "cell_type": "markdown",
   "metadata": {},
   "source": [
    "**Пример парсинга XML**"
   ]
  },
  {
   "cell_type": "code",
   "execution_count": 65,
   "metadata": {},
   "outputs": [
    {
     "name": "stdout",
     "output_type": "stream",
     "text": [
      "<Element 'zAppointments' at 0x000001AC7FD01EA0>\n",
      "tag=zAppointments, attrib={}\n",
      "appointment {}\n",
      "begin\n",
      "uid\n",
      "alarmTime\n",
      "state\n",
      "location\n",
      "duration\n",
      "subject\n",
      "----------------------------------------\n",
      "Iterating using a tree iterator\n",
      "----------------------------------------\n",
      "zAppointments\n",
      "appointment\n",
      "begin\n",
      "uid\n",
      "alarmTime\n",
      "state\n",
      "location\n",
      "duration\n",
      "subject\n",
      "----------------------------------------\n",
      "Обрабатываем дочерние элменты getchildren()\n",
      "----------------------------------------\n",
      "begin=1181251680\n",
      "uid=040000008200E000\n",
      "alarmTime=1181572063\n",
      "state=None\n",
      "location=None\n",
      "duration=1800\n",
      "subject=None\n"
     ]
    }
   ],
   "source": [
    "# -*- coding: utf-8 -*-\n",
    "import xml.etree.cElementTree as ET\n",
    "\n",
    "def parseXML(xml_file):\n",
    "    \"\"\"\n",
    "    Парсинг XML используя ElementTree\n",
    "    \"\"\"\n",
    "    tree = ET.ElementTree(file=xml_file)\n",
    "    print(tree.getroot())\n",
    "    root = tree.getroot()\n",
    "    print(\"tag=%s, attrib=%s\" % (root.tag, root.attrib))\n",
    "    \n",
    "    for child in root:\n",
    "        print(child.tag, child.attrib)\n",
    "        if child.tag == \"appointment\":\n",
    "            for step_child in child:\n",
    "                print(step_child.tag)\n",
    "\n",
    "    # Парсинг всей XML структуры.\n",
    "    print(\"-\" * 40)\n",
    "    print(\"Iterating using a tree iterator\")\n",
    "    print(\"-\" * 40)\n",
    "    iter_ = tree.iter()\n",
    "    \n",
    "    for elem in iter_:\n",
    "        print(elem.tag)\n",
    "\n",
    "    # получаем данные используя дочерние элементы.\n",
    "    print(\"-\" * 40)\n",
    "    print(\"Обрабатываем дочерние элменты getchildren()\")\n",
    "    print(\"-\" * 40)\n",
    "    appointments = list(root)\n",
    "    \n",
    "    for appointment in appointments:\n",
    "        appt_children = list(appointment)\n",
    "        for appt_child in appt_children:\n",
    "            print(\"%s=%s\" % (appt_child.tag, appt_child.text))\n",
    "\n",
    "if __name__ == \"__main__\":\n",
    "    parseXML(\"appt.xml\")"
   ]
  },
  {
   "cell_type": "code",
   "execution_count": 1,
   "metadata": {},
   "outputs": [
    {
     "ename": "SyntaxError",
     "evalue": "invalid syntax (<ipython-input-1-17b8da04349d>, line 1)",
     "output_type": "error",
     "traceback": [
      "\u001b[1;36m  File \u001b[1;32m\"<ipython-input-1-17b8da04349d>\"\u001b[1;36m, line \u001b[1;32m1\u001b[0m\n\u001b[1;33m    Залание:\u001b[0m\n\u001b[1;37m            ^\u001b[0m\n\u001b[1;31mSyntaxError\u001b[0m\u001b[1;31m:\u001b[0m invalid syntax\n"
     ]
    }
   ],
   "source": [
    "Залание:"
   ]
  },
  {
   "cell_type": "code",
   "execution_count": null,
   "metadata": {},
   "outputs": [],
   "source": []
  }
 ],
 "metadata": {
  "kernelspec": {
   "display_name": "Python 3",
   "language": "python",
   "name": "python3"
  },
  "language_info": {
   "codemirror_mode": {
    "name": "ipython",
    "version": 3
   },
   "file_extension": ".py",
   "mimetype": "text/x-python",
   "name": "python",
   "nbconvert_exporter": "python",
   "pygments_lexer": "ipython3",
   "version": "3.8.3"
  }
 },
 "nbformat": 4,
 "nbformat_minor": 4
}
